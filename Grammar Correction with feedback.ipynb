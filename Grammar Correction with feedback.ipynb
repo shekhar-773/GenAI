{
 "cells": [
  {
   "cell_type": "code",
   "execution_count": 12,
   "id": "c39f22f5-b6de-41b3-8013-4609f17ea8e3",
   "metadata": {},
   "outputs": [
    {
     "name": "stdin",
     "output_type": "stream",
     "text": [
      "Enter a sentence to check grammar:  i name is shashikant. now i have persuing graduation.\n"
     ]
    },
    {
     "name": "stdout",
     "output_type": "stream",
     "text": [
      "\n",
      "Corrected Text: My name is Shashikant. Now I am pursuing graduation.\n",
      "\n",
      "**Incorrect words:**\n",
      "\n",
      "* **i:**  Should be capitalized as \"I\"\n",
      "* **persuing:**  Misspelled, should be \"pursuing\" \n",
      "\n",
      "\n",
      "**Feedback:**\n",
      "\n",
      "* **i:**  The pronoun \"I\" always starts with a capital letter.\n",
      "* **persuing:** This is a common misspelling. Remember that \"pursuing\" has two \"s\"s. \n",
      "\n",
      "\n",
      "Incorrect Words and Feedback: ['**Incorrect words:**']\n"
     ]
    }
   ],
   "source": [
    "from langchain_groq import ChatGroq\n",
    "\n",
    "def correct_grammar(text):\n",
    "    llm = ChatGroq(\n",
    "        model=\"gemma2-9b-it\",\n",
    "        temperature=0,\n",
    "        groq_api_key=\"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\"  # Replace with your actual API key\n",
    "    )\n",
    "\n",
    "    prompt = (\n",
    "        f\"Check the grammar of the following text.\\n\"\n",
    "        f\"If it's correct, return it as is.\\n\"\n",
    "        f\"If it has grammar mistakes, correct them without \"\n",
    "        f\"changing the meaning or adding extra words.\\n\"\n",
    "        f\"Also, list the incorrect words and provide feedback \"\n",
    "        f\"on what went wrong.\\nText: {text}\"\n",
    "    )\n",
    "\n",
    "    response = llm.invoke(prompt)  # Get AIMessage object\n",
    "    corrected_text = response.content  # Extract actual text\n",
    "\n",
    "    if corrected_text.strip() == text.strip():\n",
    "        print(\"\\nSentence is already correct:\", text)\n",
    "    else:\n",
    "        print(\"\\nCorrected Text:\", corrected_text)\n",
    "\n",
    "        # The response from the model should ideally contain the list of incorrect words and feedback\n",
    "        if \"incorrect words\" in corrected_text.lower():\n",
    "            # Extract incorrect words and explanations (assuming response structure includes it)\n",
    "            incorrect_words_feedback = extract_incorrect_words(corrected_text) \n",
    "            print(\"\\nIncorrect Words and Feedback:\", incorrect_words_feedback)\n",
    "\n",
    "def extract_incorrect_words(response_text):\n",
    "    # Implement logic to parse incorrect words and their explanations from the response\n",
    "    # This will depend on how the LLM outputs feedback, here assuming a simplified approach\n",
    "    incorrect_words = []\n",
    "    lines = response_text.splitlines()\n",
    "    for line in lines:\n",
    "        if \"incorrect\" in line.lower():\n",
    "            incorrect_words.append(line.strip())\n",
    "    return incorrect_words\n",
    "\n",
    "if __name__ == \"__main__\":\n",
    "    input_text = input(\"Enter a sentence to check grammar: \")\n",
    "    correct_grammar(input_text)"
   ]
  }
 ],
 "metadata": {
  "kernelspec": {
   "display_name": "Python 3 (ipykernel)",
   "language": "python",
   "name": "python3"
  },
  "language_info": {
   "codemirror_mode": {
    "name": "ipython",
    "version": 3
   },
   "file_extension": ".py",
   "mimetype": "text/x-python",
   "name": "python",
   "nbconvert_exporter": "python",
   "pygments_lexer": "ipython3",
   "version": "3.13.2"
  }
 },
 "nbformat": 4,
 "nbformat_minor": 5
}
